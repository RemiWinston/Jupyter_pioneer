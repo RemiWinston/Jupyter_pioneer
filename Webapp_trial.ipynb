{
 "cells": [
  {
   "cell_type": "code",
   "execution_count": 1,
   "id": "f834da24",
   "metadata": {},
   "outputs": [],
   "source": [
    "import warnings\n",
    "warnings.filterwarnings('ignore')\n",
    "import ipywidgets as widgets\n",
    "from IPython.display import display, clear_output"
   ]
  },
  {
   "cell_type": "code",
   "execution_count": 2,
   "id": "1c458ead",
   "metadata": {},
   "outputs": [],
   "source": [
    "import pandas as pd\n",
    "turdata = pd.read_csv(\"TurbineNameData.csv\")"
   ]
  },
  {
   "cell_type": "code",
   "execution_count": 3,
   "id": "31972e8d",
   "metadata": {},
   "outputs": [
    {
     "name": "stderr",
     "output_type": "stream",
     "text": [
      "Enabling notebook extension jupyter-js-widgets/extension...\n",
      "      - Validating: ok\n",
      "Enabling: voila\n",
      "- Writing config: C:\\Users\\remiw\\AppData\\Local\\Programs\\Python\\Python310\\etc\\jupyter\n",
      "    - Validating...\n",
      "      voila 0.4.0 ok\n"
     ]
    }
   ],
   "source": [
    "!jupyter nbextension enable --py widgetsnbextension --sys-prefix\n",
    "!jupyter serverextension enable voila --sys-prefix"
   ]
  },
  {
   "cell_type": "code",
   "execution_count": 4,
   "id": "eee385ec",
   "metadata": {},
   "outputs": [],
   "source": [
    "#Image widget\n",
    "file = open(\"download.png\",\"rb\")\n",
    "image = file.read()\n",
    "image_headline = widgets.Image(value=image,format='png',width='1000')\n",
    "label_headline = widgets.Label(value='PIONEER WINCONS ENERGY SYSTEMS PVT.LTD',style={'description_width':'initial'})\n",
    "vbox_headline = widgets.VBox([image_headline,label_headline])"
   ]
  },
  {
   "cell_type": "code",
   "execution_count": 5,
   "id": "3c75076e",
   "metadata": {},
   "outputs": [],
   "source": [
    "#Turbine type widget\n",
    "turbtype = widgets.ToggleButtons(options =['P57'])"
   ]
  },
  {
   "cell_type": "code",
   "execution_count": 6,
   "id": "45bc41f4",
   "metadata": {},
   "outputs": [],
   "source": [
    "import ipywidgets as widgets\n",
    "from IPython.display import display\n",
    "\n",
    "# Define options\n",
    "options = ['30SECS','1MIN','5MIN','10MIN','30MIN','1HR','2HRS','5HRS','1DAY','1MONTH','1YR']\n",
    "\n",
    "# Define style\n",
    "style = {'description_width': 'initial', 'button_width':'150px', 'font_weight': 'bold'}\n",
    "button_color = '#87CEFA'\n",
    "\n",
    "# Create widget\n",
    "timelimit = widgets.ToggleButtons(\n",
    "    options=options,\n",
    "    description='Choose an option:',\n",
    "    button_style='success',\n",
    "    style=style,\n",
    "    disabled=False,\n",
    "    button_color=button_color\n",
    ")\n",
    "\n",
    "\n"
   ]
  },
  {
   "cell_type": "code",
   "execution_count": 7,
   "id": "a9e1e190",
   "metadata": {},
   "outputs": [],
   "source": [
    "#Turbine name widget\n",
    "turbname = widgets.Dropdown(\n",
    "    options=turdata['name'],\n",
    "    description='Choose the name of the Turbine:',\n",
    "     style={'description_width': 'initial', 'font-weight': 'bold', 'font-family': 'Arial'},\n",
    "    multiple=True\n",
    ")\n"
   ]
  },
  {
   "cell_type": "code",
   "execution_count": 8,
   "id": "9570745a",
   "metadata": {},
   "outputs": [],
   "source": [
    "#multiple dropdown extra\n",
    "options = ['Option 1', 'Option 2', 'Option 3', 'Option 4']\n",
    "\n",
    "multi_select = widgets.SelectMultiple(\n",
    "    options=options,\n",
    "    description='Select options',\n",
    "    rows=len(options),\n",
    ")"
   ]
  },
  {
   "cell_type": "code",
   "execution_count": 9,
   "id": "d05500ed",
   "metadata": {},
   "outputs": [],
   "source": [
    "import ipywidgets as widgets\n",
    "\n",
    "options = ['Option 1', 'Option 2', 'Option 3', 'Option 4']\n",
    "\n",
    "multi_select = widgets.SelectMultiple(\n",
    "    options=options,\n",
    "    description='Select options',\n",
    "    rows=len(options),\n",
    ")"
   ]
  },
  {
   "cell_type": "code",
   "execution_count": 10,
   "id": "8d5e333c",
   "metadata": {},
   "outputs": [],
   "source": [
    "#checkbo extra\n",
    "options = turdata['name']\n",
    "\n",
    "checkboxes = [widgets.Checkbox(description=option) for option in options]\n",
    "checkboxes_widget = widgets.VBox(children=checkboxes)"
   ]
  },
  {
   "cell_type": "code",
   "execution_count": 11,
   "id": "95a071d1",
   "metadata": {},
   "outputs": [],
   "source": [
    "#BUTTON 1 SAMPLE\n",
    "button1 = widgets.Button(\n",
    "    description='Confirm Selection',\n",
    "    disabled=False,\n",
    "    button1_style='', # 'success', 'info', 'warning', 'danger' or ''\n",
    "    tooltip='Confirm Selection',\n",
    "    icon='check' # (FontAwesome names without the `fa-` prefix)\n",
    ")\n",
    "output = widgets.Output()\n",
    "\n",
    "def on_button1_clicked(event):\n",
    "    with output:\n",
    "        clear_output()\n",
    "        print(f\"--------------- Proceed to the next selections ---------------: \")\n",
    "\n",
    "button1.on_click(on_button1_clicked)\n",
    "vbox_result=widgets.VBox([button1,output])"
   ]
  },
  {
   "cell_type": "code",
   "execution_count": 12,
   "id": "d77d1405",
   "metadata": {},
   "outputs": [],
   "source": [
    "#Date drop down\n",
    "date = widgets.DatePicker(description = 'Select your desired date :', style={'description_width': 'initial', 'font-weight': 'bold', 'font-family': 'Arial'})"
   ]
  },
  {
   "cell_type": "code",
   "execution_count": 13,
   "id": "13e21a22",
   "metadata": {},
   "outputs": [],
   "source": [
    "#Time drop down\n",
    "time = widgets.TimePicker(\n",
    "    description='Select your desired Time',\n",
    "     style={'description_width': 'initial', 'font-weight': 'bold', 'font-family': 'Arial'},\n",
    "    disabled=False\n",
    ")"
   ]
  },
  {
   "cell_type": "code",
   "execution_count": 14,
   "id": "4c10f354",
   "metadata": {},
   "outputs": [],
   "source": [
    "#Loading widget\n",
    "loading = widgets.IntProgress(\n",
    "    value=7,\n",
    "    min=0,\n",
    "    max=10,\n",
    "    description='Loading:',\n",
    "    bar_style='', # 'success', 'info', 'warning', 'danger' or ''\n",
    "    style={'bar_color': 'maroon'},\n",
    "    orientation='horizontal'\n",
    ")"
   ]
  },
  {
   "cell_type": "code",
   "execution_count": 15,
   "id": "8dae3838",
   "metadata": {},
   "outputs": [],
   "source": [
    "#MAIN Button widget \n",
    "button = widgets.Button(\n",
    "    description='Click for the results',\n",
    "    disabled=False,\n",
    "    button_style='', # 'success', 'info', 'warning', 'danger' or ''\n",
    "    tooltip='Click for the results',\n",
    "    icon='check' # (FontAwesome names without the `fa-` prefix)\n",
    ")\n",
    "output = widgets.Output()\n",
    "\n",
    "def on_button_clicked(event):\n",
    "    with output:\n",
    "        clear_output()\n",
    "        print(\"RESULT : \")\n",
    "        print(\"Here is the required Turbine's data : \")\n",
    "        print(f\"The Turbine type is {turbtype.value}\")\n",
    "        print(f\"The name of the Turbine is :  {turbname.value}\")\n",
    "        print(f\"The Turbine data from the date : {date.value} and Time Selection {time.value}\")\n",
    "        print(f\"Time limit : {timelimit.value}\")\n",
    "        print(f\"Here is the {timelimit.value} data for the {turbname.value}\" )\n",
    "        print(f\"The options is {multi_select.value}\")\n",
    "        \n",
    "\n",
    "button.on_click(on_button_clicked)\n",
    "vbox_results=widgets.VBox([button,output])"
   ]
  },
  {
   "cell_type": "code",
   "execution_count": 16,
   "id": "793e8c29",
   "metadata": {},
   "outputs": [],
   "source": [
    "text_0=widgets.HTML(value=\"<h1>Here is the required Turbine's data :<h1>\",style={'font-family': 'Georgia'})\n",
    "text_1=widgets.HTML(value=\"<h2>The Turbine type is<h2>\",style={'font-family': 'Georgia'})\n",
    "text_2=widgets.HTML(value=\"<h3>Choose the Turbine from the list : <h3>\",style={'font-family': 'Georgia'})\n",
    "text_3=widgets.HTML(value=\"<h3>The name of the Turbine is : <h3>\",style={'font-family': 'Georgia'})\n",
    "text_4=widgets.HTML(value=\"<h3>The Turbine data from the date : <h3>\",style={'font-family': 'Georgia'})\n",
    "text_5=widgets.HTML(value=\"<h3>Time selection : <h3>\",style={'font-family': 'Georgia'})\n",
    "text_6=widgets.HTML(value=\"<h3>Time limit : <h3>\",style={'font-family': 'Georgia'})\n",
    "text_7=widgets.HTML(value=\"<h3>The options is : <h3>\",style={'font-family': 'Georgia'})\n",
    "\n",
    "vbox_text=widgets.VBox([text_0,text_1,turbtype,text_2,checkboxes_widget,vbox_result,text_3,turbname,text_4,date,text_5,time,text_6,timelimit,vbox_results])"
   ]
  },
  {
   "cell_type": "code",
   "execution_count": 17,
   "id": "fea5b66f",
   "metadata": {},
   "outputs": [
    {
     "data": {
      "application/vnd.jupyter.widget-view+json": {
       "model_id": "32f4a529094b463a93e6ea031dca2a44",
       "version_major": 2,
       "version_minor": 0
      },
      "text/plain": [
       "HBox(children=(VBox(children=(Image(value=b'\\x89PNG\\r\\n\\x1a\\n\\x00\\x00\\x00\\rIHDR\\x00\\x00\\x04\\xce\\x00\\x00\\x04\\x7…"
      ]
     },
     "metadata": {},
     "output_type": "display_data"
    }
   ],
   "source": [
    "page = widgets.HBox([vbox_headline,vbox_text])\n",
    "display(page)"
   ]
  },
  {
   "cell_type": "code",
   "execution_count": 18,
   "id": "ac2867fc",
   "metadata": {},
   "outputs": [],
   "source": [
    "!pip freeze > requirements.txt"
   ]
  },
  {
   "cell_type": "code",
   "execution_count": null,
   "id": "03629141",
   "metadata": {},
   "outputs": [],
   "source": []
  },
  {
   "cell_type": "code",
   "execution_count": null,
   "id": "438335bb",
   "metadata": {},
   "outputs": [],
   "source": []
  },
  {
   "cell_type": "code",
   "execution_count": null,
   "id": "f962392e",
   "metadata": {},
   "outputs": [],
   "source": []
  },
  {
   "cell_type": "code",
   "execution_count": null,
   "id": "7a5df3d2",
   "metadata": {},
   "outputs": [],
   "source": []
  },
  {
   "cell_type": "code",
   "execution_count": null,
   "id": "0526309c",
   "metadata": {},
   "outputs": [],
   "source": []
  },
  {
   "cell_type": "code",
   "execution_count": null,
   "id": "3c79e9ec",
   "metadata": {},
   "outputs": [],
   "source": []
  },
  {
   "cell_type": "code",
   "execution_count": null,
   "id": "0fcdb37c",
   "metadata": {},
   "outputs": [],
   "source": []
  },
  {
   "cell_type": "code",
   "execution_count": null,
   "id": "829ddbc2",
   "metadata": {},
   "outputs": [],
   "source": []
  },
  {
   "cell_type": "code",
   "execution_count": null,
   "id": "ebc799f9",
   "metadata": {},
   "outputs": [],
   "source": []
  },
  {
   "cell_type": "code",
   "execution_count": null,
   "id": "3fa2db78",
   "metadata": {},
   "outputs": [],
   "source": []
  },
  {
   "cell_type": "code",
   "execution_count": null,
   "id": "f0e578a2",
   "metadata": {},
   "outputs": [],
   "source": []
  },
  {
   "cell_type": "code",
   "execution_count": null,
   "id": "6926981c",
   "metadata": {},
   "outputs": [],
   "source": []
  },
  {
   "cell_type": "code",
   "execution_count": null,
   "id": "49e5f8a8",
   "metadata": {},
   "outputs": [],
   "source": []
  },
  {
   "cell_type": "code",
   "execution_count": null,
   "id": "6c58b537",
   "metadata": {},
   "outputs": [],
   "source": []
  },
  {
   "cell_type": "code",
   "execution_count": null,
   "id": "a9d61923",
   "metadata": {},
   "outputs": [],
   "source": []
  },
  {
   "cell_type": "code",
   "execution_count": null,
   "id": "9d3f4d10",
   "metadata": {},
   "outputs": [],
   "source": []
  }
 ],
 "metadata": {
  "kernelspec": {
   "display_name": "Python 3 (ipykernel)",
   "language": "python",
   "name": "python3"
  },
  "language_info": {
   "codemirror_mode": {
    "name": "ipython",
    "version": 3
   },
   "file_extension": ".py",
   "mimetype": "text/x-python",
   "name": "python",
   "nbconvert_exporter": "python",
   "pygments_lexer": "ipython3",
   "version": "3.10.11"
  }
 },
 "nbformat": 4,
 "nbformat_minor": 5
}
